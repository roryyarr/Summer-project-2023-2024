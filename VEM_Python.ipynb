{
 "cells": [
  {
   "cell_type": "markdown",
   "metadata": {},
   "source": [
    "# VEM "
   ]
  },
  {
   "cell_type": "code",
   "execution_count": 1,
   "metadata": {},
   "outputs": [],
   "source": [
    "import numpy as np\n",
    "import pandas as pd\n",
    "import matplotlib.pyplot as plt"
   ]
  },
  {
   "cell_type": "markdown",
   "metadata": {},
   "source": [
    "## Mesh files"
   ]
  },
  {
   "cell_type": "code",
   "execution_count": 256,
   "metadata": {},
   "outputs": [],
   "source": [
    "from numpy import sqrt\n",
    "x = [0, 1, 1, 0]\n",
    "y = [0, 0, 1, 1]\n",
    "\n",
    "\"\"\"\n",
    "vertices =  np.array([x,y]).T\n",
    "elements = [0, 1, 2, 4]\n",
    "boundary = [0, 1, 2, 4]\n",
    "\n",
    "\n",
    "\"\"\"\n",
    "vertices =  [[0,0], [3,0], [3,2], [1.5,4], [0,4]]\n",
    "elements = [0, 1, 2, 4, 5]\n",
    "boundary = [0, 1, 2, 4, 5]\n"
   ]
  },
  {
   "cell_type": "markdown",
   "metadata": {},
   "source": [
    "### intialise matrices and functions "
   ]
  },
  {
   "cell_type": "code",
   "execution_count": 257,
   "metadata": {},
   "outputs": [],
   "source": [
    "#Caluclate the degrees of freedom.\n",
    "n_dofs = len(vertices)\n",
    "n_polys = 3\n",
    "\n",
    "#Initalise matricies\n",
    "K = np.zeros((n_dofs,n_dofs))\n",
    "F = np.zeros(n_dofs)\n",
    "u = np.zeros(n_dofs)\n",
    "\n",
    "#Defines polynomial ordering\n",
    "linear_polynomials = [[0,0], [1,0], [0,1]]\n",
    "\n",
    "#Unitiy function for vector wraping.\n",
    "def mod_wrap(x,a):\n",
    "    return (x-1)%a -2\n"
   ]
  },
  {
   "cell_type": "code",
   "execution_count": 258,
   "metadata": {},
   "outputs": [],
   "source": [
    "#Summary statistics\n",
    "n_sides = len(elements)\n",
    "area = 1\n",
    "centroid = [0.5,0.5]\n",
    "diameter = sqrt(2)\n",
    "\n",
    "\n",
    "area = 10.5\n",
    "centroid = [19/14, 38/21]\n",
    "diameter = 5\n"
   ]
  },
  {
   "cell_type": "markdown",
   "metadata": {},
   "source": [
    "### Design B and D matrices"
   ]
  },
  {
   "cell_type": "code",
   "execution_count": 259,
   "metadata": {},
   "outputs": [],
   "source": [
    "D = np.zeros((n_sides, n_polys))\n",
    "B = np.zeros((n_polys, n_sides))\n",
    "\n",
    "D[:,0] = 1\n",
    "B[0,:] = 1\n"
   ]
  },
  {
   "cell_type": "code",
   "execution_count": 287,
   "metadata": {},
   "outputs": [
    {
     "name": "stdout",
     "output_type": "stream",
     "text": [
      "[-4, -1.5]\n"
     ]
    },
    {
     "ename": "TypeError",
     "evalue": "list indices must be integers or slices, not tuple",
     "output_type": "error",
     "traceback": [
      "\u001b[0;31m---------------------------------------------------------------------------\u001b[0m",
      "\u001b[0;31mTypeError\u001b[0m                                 Traceback (most recent call last)",
      "\u001b[1;32mUntitled-1.ipynb Cell 10\u001b[0m line \u001b[0;36m<cell line: 1>\u001b[0;34m()\u001b[0m\n\u001b[1;32m     <a href='vscode-notebook-cell:Untitled-1.ipynb?jupyter-notebook#X11sdW50aXRsZWQ%3D?line=10'>11</a>\u001b[0m monomial_grad \u001b[39m=\u001b[39m np\u001b[39m.\u001b[39mdivide(poly_degree , diameter)\n\u001b[1;32m     <a href='vscode-notebook-cell:Untitled-1.ipynb?jupyter-notebook#X11sdW50aXRsZWQ%3D?line=11'>12</a>\u001b[0m D[vertex_id, poly_id] \u001b[39m=\u001b[39m np\u001b[39m.\u001b[39mdot(np\u001b[39m.\u001b[39msubtract(vert,centroid) , poly_degree) \u001b[39m/\u001b[39m diameter\n\u001b[0;32m---> <a href='vscode-notebook-cell:Untitled-1.ipynb?jupyter-notebook#X11sdW50aXRsZWQ%3D?line=12'>13</a>\u001b[0m B[poly_id, vertex_id] \u001b[39m=\u001b[39m  \u001b[39m0.5\u001b[39m \u001b[39m*\u001b[39m np\u001b[39m.\u001b[39mdot(monomial_grad , vertex_normal)\n",
      "\u001b[0;31mTypeError\u001b[0m: list indices must be integers or slices, not tuple"
     ]
    }
   ],
   "source": [
    "for vertex_id in range(n_sides):\n",
    "    vert = vertices[vertex_id]\n",
    "    prev = vertices[mod_wrap(vertex_id - 1,n_sides)]\n",
    "    next = vertices[mod_wrap(vertex_id + 1,n_sides)]\n",
    "\n",
    "    vertex_normal = [next[1] - prev[1], next[0] - prev[0]]\n",
    "    print(vertex_normal)\n",
    "\n",
    "    for poly_id in range(1,n_polys):\n",
    "        poly_degree = linear_polynomials[poly_id]\n",
    "        monomial_grad = np.divide(poly_degree , diameter)\n",
    "        D[vertex_id, poly_id] = np.dot(np.subtract(vert,centroid) , poly_degree) / diameter\n",
    "        B[poly_id, vertex_id] =  0.5 * np.dot(monomial_grad , vertex_normal)"
   ]
  },
  {
   "cell_type": "markdown",
   "metadata": {},
   "source": []
  },
  {
   "cell_type": "code",
   "execution_count": 270,
   "metadata": {},
   "outputs": [
    {
     "data": {
      "text/plain": [
       "array([[20., 20., 20., 20., 20.],\n",
       "       [-8.,  4.,  8.,  4., -8.],\n",
       "       [ 6.,  6., -3., -6., -3.]])"
      ]
     },
     "execution_count": 270,
     "metadata": {},
     "output_type": "execute_result"
    }
   ],
   "source": [
    "B*20\n"
   ]
  },
  {
   "cell_type": "code",
   "execution_count": 272,
   "metadata": {},
   "outputs": [
    {
     "data": {
      "text/plain": [
       "array([[1470., -399., -532.],\n",
       "       [1470.,  483., -532.],\n",
       "       [1470.,  483.,   56.],\n",
       "       [1470.,   42.,  644.],\n",
       "       [1470., -399.,  644.]])"
      ]
     },
     "execution_count": 272,
     "metadata": {},
     "output_type": "execute_result"
    }
   ],
   "source": [
    "B = [[4, 4, 4, 4, 4], \n",
    "     [8, 4, 8, 4, -8],\n",
    "     [-6, -6, 3, 6, 3]]\n",
    "\n",
    "BB = 0.05*np.array(B)\n",
    "20*BB\n",
    "1470*D\n"
   ]
  },
  {
   "cell_type": "code",
   "execution_count": 285,
   "metadata": {},
   "outputs": [
    {
     "data": {
      "text/plain": [
       "3"
      ]
     },
     "execution_count": 285,
     "metadata": {},
     "output_type": "execute_result"
    }
   ],
   "source": [
    "def mod_wrap(x,a):\n",
    "    return (x-1)%a \n",
    "\n",
    "mod_wrap(4,4)"
   ]
  },
  {
   "cell_type": "code",
   "execution_count": 177,
   "metadata": {},
   "outputs": [
    {
     "data": {
      "text/plain": [
       "array([[ 1.        , -0.06802721, -0.09070295],\n",
       "       [ 0.        ,  2.38095238,  0.        ],\n",
       "       [ 0.        ,  0.        ,  2.38095238]])"
      ]
     },
     "execution_count": 177,
     "metadata": {},
     "output_type": "execute_result"
    }
   ],
   "source": [
    "np.linalg.inv(G)"
   ]
  },
  {
   "cell_type": "code",
   "execution_count": 174,
   "metadata": {},
   "outputs": [],
   "source": [
    "G = np.array([[1050, 30, 40],\n",
    "              [0, 441, 0],\n",
    "              [0, 0, 441]])/1050"
   ]
  },
  {
   "cell_type": "markdown",
   "metadata": {},
   "source": [
    "## ChatGPT python script"
   ]
  },
  {
   "cell_type": "code",
   "execution_count": null,
   "metadata": {},
   "outputs": [],
   "source": []
  },
  {
   "cell_type": "code",
   "execution_count": 276,
   "metadata": {},
   "outputs": [],
   "source": [
    "import numpy as np\n",
    "from scipy.sparse import csr_matrix\n",
    "\n",
    "def mod_wrap(x, a):\n",
    "    return (x - 1) % a + 1\n",
    "\n",
    "def virtual_element(mesh, rhs, boundary_condition):\n",
    "    n_dofs = len(mesh.vertices)\n",
    "    n_polys = 3  # Number of polynomials (in this case, linear polynomials)\n",
    "    K = csr_matrix((n_dofs, n_dofs))  # Stiffness matrix\n",
    "    F = np.zeros(n_dofs)  # Forcing vector\n",
    "    u = np.zeros(n_dofs)  # Degrees of freedom of the virtual element solution\n",
    "    linear_polynomials = [(0, 0), (1, 0), (0, 1)]  # Impose an ordering on the linear polynomials\n",
    "\n",
    "    for el_id, vert_ids in enumerate(mesh.elements, start=1):\n",
    "        verts = mesh.vertices[vert_ids]  # Coordinates of the vertices of this element\n",
    "        n_sides = len(vert_ids)\n",
    "\n",
    "        # Compute geometric information\n",
    "        area_components = verts[:, 0] * np.roll(verts[:, 1], -1) - np.roll(verts[:, 0], -1) * verts[:, 1]\n",
    "        area = 0.5 * np.abs(np.sum(area_components))\n",
    "        centroid = np.sum((verts + np.roll(verts, -1, axis=0)) * np.tile(area_components, (2, 1)).T, axis=0) / (6 * area)\n",
    "        diameter = 0\n",
    "\n",
    "        # Compute the diameter by looking at every pair of vertices\n",
    "        for i in range(n_sides - 1):\n",
    "            for j in range(i + 1, n_sides):\n",
    "                diameter = max(diameter, np.linalg.norm(verts[i] - verts[j]))\n",
    "\n",
    "        D = np.zeros((n_sides, n_polys))\n",
    "        D[:, 0] = 1\n",
    "        B = np.zeros((n_polys, n_sides))\n",
    "        B[0, :] = 1 / n_sides\n",
    "\n",
    "        for vertex_id in range(n_sides):\n",
    "            vert = verts[vertex_id]  # This vertex and its neighbours\n",
    "            prev = verts[mod_wrap(vertex_id - 1, n_sides)]\n",
    "            next_ = verts[mod_wrap(vertex_id + 1, n_sides)]\n",
    "            vertex_normal = [next_[1] - prev[1], prev[0] - next_[0]]  # Average of edge normals\n",
    "\n",
    "            for poly_id in range(1, n_polys):  # Only need to loop over non-constant polynomials\n",
    "                poly_degree = np.array(linear_polynomials[poly_id])\n",
    "                monomial_grad = poly_degree / diameter  # Gradient of a linear is constant\n",
    "                D[vertex_id, poly_id] = np.dot(vert - centroid, poly_degree) / diameter\n",
    "                B[poly_id, vertex_id] = 0.5 * np.dot(monomial_grad, vertex_normal)\n",
    "\n",
    "        # Compute the local Ritz projector to polynomials\n",
    "        projector = np.linalg.lstsq(B @ D, B, rcond=None)[0]\n",
    "        stabilising_term = (np.eye(n_sides) - D @ projector).T @ (np.eye(n_sides) - D @ projector)\n",
    "        G = B @ D\n",
    "        G[0, :] = 0\n",
    "        local_stiffness = projector.T @ G @ projector + stabilising_term\n",
    "\n",
    "        # Copy local to global\n",
    "        K[np.ix_(vert_ids, vert_ids)] += local_stiffness\n",
    "\n",
    "        # Compute the right-hand side contribution\n",
    "        F[vert_ids] += rhs(centroid) * area / n_sides\n",
    "\n",
    "    # Apply boundary conditions\n",
    "    boundary_vals = boundary_condition(mesh.vertices[mesh.boundary])\n",
    "    internal_dofs = np.setdiff1d(np.arange(n_dofs), mesh.boundary)\n",
    "    F[internal_dofs] -= K[internal_dofs, :][:, mesh.boundary] @ boundary_vals\n",
    "\n",
    "    # Solve the linear system for internal degrees of freedom\n",
    "    u[internal_dofs] = np.linalg.solve(K[internal_dofs, :][:, internal_dofs], F[internal_dofs])\n",
    "\n",
    "    # Set boundary values\n",
    "    u[mesh.boundary] = boundary_vals\n",
    "\n",
    "    return u"
   ]
  },
  {
   "cell_type": "code",
   "execution_count": 279,
   "metadata": {},
   "outputs": [],
   "source": [
    "from numpy import sqrt\n",
    "x = [0, 1, 1, 0]\n",
    "y = [0, 0, 1, 1]\n",
    "\n",
    "\"\"\"\n",
    "vertices =  np.array([x,y]).T\n",
    "elements = [0, 1, 2, 4]\n",
    "boundary = [0, 1, 2, 4]\n",
    "\n",
    "\n",
    "\"\"\"\n",
    "vertices =  [[0,0], [3,0], [3,2], [1.5,4], [0,4]]\n",
    "elements = [0, 1, 2, 4, 5]\n",
    "boundary = [0, 1, 2, 4, 5]\n",
    "\n",
    "\n",
    "square = pd.DataFrame({\"vertices\":vertices, \"elements\":elements, \"boundary\":boundary})\n"
   ]
  },
  {
   "cell_type": "code",
   "execution_count": 305,
   "metadata": {},
   "outputs": [
    {
     "ename": "ValueError",
     "evalue": "All arrays must be of the same length",
     "output_type": "error",
     "traceback": [
      "\u001b[0;31m---------------------------------------------------------------------------\u001b[0m",
      "\u001b[0;31mValueError\u001b[0m                                Traceback (most recent call last)",
      "\u001b[1;32mUntitled-1.ipynb Cell 21\u001b[0m line \u001b[0;36m<cell line: 54>\u001b[0;34m()\u001b[0m\n\u001b[1;32m     <a href='vscode-notebook-cell:Untitled-1.ipynb?jupyter-notebook#X30sdW50aXRsZWQ%3D?line=50'>51</a>\u001b[0m boundary \u001b[39m=\u001b[39m [\u001b[39m0\u001b[39m, \u001b[39m1\u001b[39m, \u001b[39m2\u001b[39m, \u001b[39m4\u001b[39m, \u001b[39m5\u001b[39m]\n\u001b[1;32m     <a href='vscode-notebook-cell:Untitled-1.ipynb?jupyter-notebook#X30sdW50aXRsZWQ%3D?line=52'>53</a>\u001b[0m \u001b[39m# Create DataFrame for mesh data\u001b[39;00m\n\u001b[0;32m---> <a href='vscode-notebook-cell:Untitled-1.ipynb?jupyter-notebook#X30sdW50aXRsZWQ%3D?line=53'>54</a>\u001b[0m mesh \u001b[39m=\u001b[39m pd\u001b[39m.\u001b[39;49mDataFrame({\u001b[39m\"\u001b[39;49m\u001b[39mvertices\u001b[39;49m\u001b[39m\"\u001b[39;49m: vertices, \u001b[39m\"\u001b[39;49m\u001b[39melements\u001b[39;49m\u001b[39m\"\u001b[39;49m: elements, \u001b[39m\"\u001b[39;49m\u001b[39mboundary\u001b[39;49m\u001b[39m\"\u001b[39;49m: boundary})\n\u001b[1;32m     <a href='vscode-notebook-cell:Untitled-1.ipynb?jupyter-notebook#X30sdW50aXRsZWQ%3D?line=55'>56</a>\u001b[0m \u001b[39m# Compute B and D matrices\u001b[39;00m\n\u001b[1;32m     <a href='vscode-notebook-cell:Untitled-1.ipynb?jupyter-notebook#X30sdW50aXRsZWQ%3D?line=56'>57</a>\u001b[0m B_matrices, D_matrices \u001b[39m=\u001b[39m compute_B_and_D(mesh)\n",
      "File \u001b[0;32m~/opt/anaconda3/lib/python3.9/site-packages/pandas/core/frame.py:636\u001b[0m, in \u001b[0;36mDataFrame.__init__\u001b[0;34m(self, data, index, columns, dtype, copy)\u001b[0m\n\u001b[1;32m    630\u001b[0m     mgr \u001b[39m=\u001b[39m \u001b[39mself\u001b[39m\u001b[39m.\u001b[39m_init_mgr(\n\u001b[1;32m    631\u001b[0m         data, axes\u001b[39m=\u001b[39m{\u001b[39m\"\u001b[39m\u001b[39mindex\u001b[39m\u001b[39m\"\u001b[39m: index, \u001b[39m\"\u001b[39m\u001b[39mcolumns\u001b[39m\u001b[39m\"\u001b[39m: columns}, dtype\u001b[39m=\u001b[39mdtype, copy\u001b[39m=\u001b[39mcopy\n\u001b[1;32m    632\u001b[0m     )\n\u001b[1;32m    634\u001b[0m \u001b[39melif\u001b[39;00m \u001b[39misinstance\u001b[39m(data, \u001b[39mdict\u001b[39m):\n\u001b[1;32m    635\u001b[0m     \u001b[39m# GH#38939 de facto copy defaults to False only in non-dict cases\u001b[39;00m\n\u001b[0;32m--> 636\u001b[0m     mgr \u001b[39m=\u001b[39m dict_to_mgr(data, index, columns, dtype\u001b[39m=\u001b[39;49mdtype, copy\u001b[39m=\u001b[39;49mcopy, typ\u001b[39m=\u001b[39;49mmanager)\n\u001b[1;32m    637\u001b[0m \u001b[39melif\u001b[39;00m \u001b[39misinstance\u001b[39m(data, ma\u001b[39m.\u001b[39mMaskedArray):\n\u001b[1;32m    638\u001b[0m     \u001b[39mimport\u001b[39;00m \u001b[39mnumpy\u001b[39;00m\u001b[39m.\u001b[39;00m\u001b[39mma\u001b[39;00m\u001b[39m.\u001b[39;00m\u001b[39mmrecords\u001b[39;00m \u001b[39mas\u001b[39;00m \u001b[39mmrecords\u001b[39;00m\n",
      "File \u001b[0;32m~/opt/anaconda3/lib/python3.9/site-packages/pandas/core/internals/construction.py:502\u001b[0m, in \u001b[0;36mdict_to_mgr\u001b[0;34m(data, index, columns, dtype, typ, copy)\u001b[0m\n\u001b[1;32m    494\u001b[0m     arrays \u001b[39m=\u001b[39m [\n\u001b[1;32m    495\u001b[0m         x\n\u001b[1;32m    496\u001b[0m         \u001b[39mif\u001b[39;00m \u001b[39mnot\u001b[39;00m \u001b[39mhasattr\u001b[39m(x, \u001b[39m\"\u001b[39m\u001b[39mdtype\u001b[39m\u001b[39m\"\u001b[39m) \u001b[39mor\u001b[39;00m \u001b[39mnot\u001b[39;00m \u001b[39misinstance\u001b[39m(x\u001b[39m.\u001b[39mdtype, ExtensionDtype)\n\u001b[1;32m    497\u001b[0m         \u001b[39melse\u001b[39;00m x\u001b[39m.\u001b[39mcopy()\n\u001b[1;32m    498\u001b[0m         \u001b[39mfor\u001b[39;00m x \u001b[39min\u001b[39;00m arrays\n\u001b[1;32m    499\u001b[0m     ]\n\u001b[1;32m    500\u001b[0m     \u001b[39m# TODO: can we get rid of the dt64tz special case above?\u001b[39;00m\n\u001b[0;32m--> 502\u001b[0m \u001b[39mreturn\u001b[39;00m arrays_to_mgr(arrays, columns, index, dtype\u001b[39m=\u001b[39;49mdtype, typ\u001b[39m=\u001b[39;49mtyp, consolidate\u001b[39m=\u001b[39;49mcopy)\n",
      "File \u001b[0;32m~/opt/anaconda3/lib/python3.9/site-packages/pandas/core/internals/construction.py:120\u001b[0m, in \u001b[0;36marrays_to_mgr\u001b[0;34m(arrays, columns, index, dtype, verify_integrity, typ, consolidate)\u001b[0m\n\u001b[1;32m    117\u001b[0m \u001b[39mif\u001b[39;00m verify_integrity:\n\u001b[1;32m    118\u001b[0m     \u001b[39m# figure out the index, if necessary\u001b[39;00m\n\u001b[1;32m    119\u001b[0m     \u001b[39mif\u001b[39;00m index \u001b[39mis\u001b[39;00m \u001b[39mNone\u001b[39;00m:\n\u001b[0;32m--> 120\u001b[0m         index \u001b[39m=\u001b[39m _extract_index(arrays)\n\u001b[1;32m    121\u001b[0m     \u001b[39melse\u001b[39;00m:\n\u001b[1;32m    122\u001b[0m         index \u001b[39m=\u001b[39m ensure_index(index)\n",
      "File \u001b[0;32m~/opt/anaconda3/lib/python3.9/site-packages/pandas/core/internals/construction.py:674\u001b[0m, in \u001b[0;36m_extract_index\u001b[0;34m(data)\u001b[0m\n\u001b[1;32m    672\u001b[0m lengths \u001b[39m=\u001b[39m \u001b[39mlist\u001b[39m(\u001b[39mset\u001b[39m(raw_lengths))\n\u001b[1;32m    673\u001b[0m \u001b[39mif\u001b[39;00m \u001b[39mlen\u001b[39m(lengths) \u001b[39m>\u001b[39m \u001b[39m1\u001b[39m:\n\u001b[0;32m--> 674\u001b[0m     \u001b[39mraise\u001b[39;00m \u001b[39mValueError\u001b[39;00m(\u001b[39m\"\u001b[39m\u001b[39mAll arrays must be of the same length\u001b[39m\u001b[39m\"\u001b[39m)\n\u001b[1;32m    676\u001b[0m \u001b[39mif\u001b[39;00m have_dicts:\n\u001b[1;32m    677\u001b[0m     \u001b[39mraise\u001b[39;00m \u001b[39mValueError\u001b[39;00m(\n\u001b[1;32m    678\u001b[0m         \u001b[39m\"\u001b[39m\u001b[39mMixing dicts with non-Series may lead to ambiguous ordering.\u001b[39m\u001b[39m\"\u001b[39m\n\u001b[1;32m    679\u001b[0m     )\n",
      "\u001b[0;31mValueError\u001b[0m: All arrays must be of the same length"
     ]
    }
   ],
   "source": [
    "def mod_wrap(x, a):\n",
    "    return (x - 1) % a + 1\n",
    "\n",
    "def compute_B_and_D(mesh):\n",
    "    n_polys = 3  # Number of polynomials (in this case, linear polynomials)\n",
    "    linear_polynomials = [(0, 0), (1, 0), (0, 1)]  # Impose an ordering on the linear polynomials\n",
    "    B_list = []\n",
    "    D_list = []\n",
    "\n",
    "    for vert_ids in mesh['elements']:\n",
    "        verts = np.array(mesh.vertices[vert_ids] )  # Coordinates of the vertices of this element\n",
    "        n_sides = len(vert_ids)\n",
    "\n",
    "        # Compute geometric information\n",
    "        area_components = verts[:, 0] * np.roll(verts[:, 1], -1) - np.roll(verts[:, 0], -1) * verts[:, 1]\n",
    "        area = 0.5 * np.abs(np.sum(area_components))\n",
    "        centroid = np.sum((verts + np.roll(verts, -1, axis=0)) * np.tile(area_components, (2, 1)).T, axis=0) / (6 * area)\n",
    "        diameter = 0\n",
    "\n",
    "        # Compute the diameter by looking at every pair of vertices\n",
    "        for i in range(n_sides - 1):\n",
    "            for j in range(i + 1, n_sides):\n",
    "                diameter = max(diameter, np.linalg.norm(verts[i] - verts[j]))\n",
    "\n",
    "        D = np.zeros((n_sides, n_polys))\n",
    "        D[:, 0] = 1\n",
    "        B = np.zeros((n_polys, n_sides))\n",
    "        B[0, :] = 1 / n_sides\n",
    "\n",
    "        for vertex_id in range(n_sides):\n",
    "            vert = verts[vertex_id]  # This vertex and its neighbours\n",
    "            prev = verts[mod_wrap(vertex_id - 1, n_sides)]\n",
    "            next_ = verts[mod_wrap(vertex_id + 1, n_sides)]\n",
    "            vertex_normal = [next_[1] - prev[1], prev[0] - next_[0]]  # Average of edge normals\n",
    "\n",
    "            for poly_id in range(1, n_polys):  # Only need to loop over non-constant polynomials\n",
    "                poly_degree = np.array(linear_polynomials[poly_id])\n",
    "                monomial_grad = poly_degree / diameter  # Gradient of a linear is constant\n",
    "                D[vertex_id, poly_id] = np.dot(vert - centroid, poly_degree) / diameter\n",
    "                B[poly_id, vertex_id] = 0.5 * np.dot(monomial_grad, vertex_normal)\n",
    "\n",
    "        B_list.append(B)\n",
    "        D_list.append(D)\n",
    "\n",
    "    return B_list, D_list\n",
    " \n",
    "\n",
    "# Define mesh vertices, elements, and boundary\n",
    "vertices = [[0, 0], [3, 0], [3, 2], [1.5, 4], [0, 4]]\n",
    "elements = [[0, 1, 2, 4, 5],]\n",
    "boundary = [0, 1, 2, 4, 5]\n",
    "\n",
    "# Create DataFrame for mesh data\n",
    "mesh = np.array({\"vertices\": vertices, \"elements\": elements, \"boundary\": boundary})\n",
    "\n",
    "# Compute B and D matrices\n",
    "B_matrices, D_matrices = compute_B_and_D(mesh)\n",
    "\n",
    "# Print the first B and D matrices\n",
    "print(\"B matrix:\")\n",
    "print(B_matrices[0])\n",
    "print(\"D matrix:\")\n",
    "print(D_matrices[0])\n"
   ]
  },
  {
   "cell_type": "code",
   "execution_count": 310,
   "metadata": {},
   "outputs": [
    {
     "data": {
      "text/plain": [
       "array({'vertices': [[0, 0], [3, 0], [3, 2], [1.5, 4], [0, 4]], 'elements': [[0, 1, 2, 4, 5]], 'boundary': [0, 1, 2, 4, 5]},\n",
       "      dtype=object)"
      ]
     },
     "execution_count": 310,
     "metadata": {},
     "output_type": "execute_result"
    }
   ],
   "source": [
    "mesh = np.array({\"vertices\": vertices, \"elements\": elements, \"boundary\": boundary})\n",
    "mesh"
   ]
  }
 ],
 "metadata": {
  "kernelspec": {
   "display_name": "base",
   "language": "python",
   "name": "python3"
  },
  "language_info": {
   "codemirror_mode": {
    "name": "ipython",
    "version": 3
   },
   "file_extension": ".py",
   "mimetype": "text/x-python",
   "name": "python",
   "nbconvert_exporter": "python",
   "pygments_lexer": "ipython3",
   "version": "3.9.7"
  },
  "orig_nbformat": 4
 },
 "nbformat": 4,
 "nbformat_minor": 2
}
